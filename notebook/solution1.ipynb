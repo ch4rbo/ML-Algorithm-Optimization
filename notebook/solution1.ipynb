{
"cells": [
{
"cell_type": "markdown",
"id": "27b09e13",
"metadata": {},
"source": [
"# Algorithm Optimization Solutions"
]
},
{
"cell_type": "markdown",
"id": "ed05e9bf",
"metadata": {},
"source": [
"## Exercise 1\n",
"\n",
"Suppose a manager gives a task to two of his employees to design an algorithm in Python that efficiently compute sums of diagonals of a matrix.\n",
"\n",
"For example:\n",
"\n",
"```py\n",
"Input : \n",
"\n",
"\n",
"1 2 3 4\n",
"4 3 2 1\n",
"7 8 9 6\n",
"6 5 4 3\n",
"\n",
"Output :\n",
"\n",
"Principal Diagonal: 16\n",
"Secondary Diagonal: 20\n",
"```\n",
"\n",
"The primary diagonal is formed by the elements 1,3,9,3. \n",
" \n",
"\n",
"Condition for Principal Diagonal: The row-column condition is row = column. \n",
"\n",
"The secondary diagonal is formed by the elements 4,2,8,6.\n",
"\n",
"Condition for Secondary Diagonal: The row-column condition is row = number Of Rows – column -1.\n",
"\n",
"The algorithm developed by the first employee looks like this:"
]
},
{
"cell_type": "markdown",
"id": "8f18cb2f",
"metadata": {},
"source": [
"**Method 1:**\n",
"\n",
"In this method, he used two loops. A loop for columns and a loop for rows and in the inner loop we check for the condition stated above."
]
},
{
"cell_type": "code",
"execution_count": 2,
"id": "c592f03c",
"metadata": {},
"outputs": [
{
"name": "stdout",
"output_type": "stream",
"text": [
"Principal Diagonal: 18\n",
"Secondary Diagonal: 18\n"
]
}
],
"source": [
"# A simple Python program to\n",
"# find sum of diagonals\n",
"MAX = 100\n",
" \n",
"def DiagonalSums_emp1(mat, n):\n",
" \n",
"    principal = 0\n",
"    secondary = 0;\n",
"    for i in range(0, n):\n",
"        for j in range(0, n):\n",
" \n",
"            # Condition for principal diagonal\n",
"            if (i == j):\n",
"                principal += mat[i][j]\n",
" \n",
"            # Condition for secondary diagonal\n",
"            if ((i + j) == (n - 1)):\n",
"                secondary += mat[i][j]\n",
"                \n",
"    print(\"Principal Diagonal:\", principal)\n",
"    print(\"Secondary Diagonal:\", secondary)\n",
" \n",
" \n",
"a = [[ 1, 2, 3, 4 ],\n",
"     [ 5, 6, 7, 8 ],\n",
"     [ 1, 2, 3, 4 ],\n",
"     [ 5, 6, 7, 8 ]]\n",
"\n",
"DiagonalSums_emp1(a, 4)\n",
" \n",
"# This code is contributed\n",
"# by ihritik"
]
},
{
"cell_type": "markdown",
"id": "4f0567be",
"metadata": {},
"source": [
"The algorithm developed by the second employee looks like this:\n",
"\n",
"**Method 2:**\n",
"\n",
"In this method we use one loop. A loop for calculating sum of both the principal and secondary diagonals: "
]
},
{
"cell_type": "code",
"execution_count": 3,
"id": "0ca5e0a5",
"metadata": {},
"outputs": [
{
"name": "stdout",
"output_type": "stream",
"text": [
"Principal Diagonal: 18\n",
"Secondary Diagonal: 18\n"
]
}
],
"source": [
"# A simple Python3 program to find\n",
"# sum of diagonals\n",
"\n",
"MAX = 100\n",
" \n",
"def DiagonalSums_emp2(mat, n):\n",
" \n",
"    principal = 0\n",
"    secondary = 0\n",
"    for i in range(0, n):\n",
"        principal += mat[i][i]\n",
"        secondary += mat[i][n - i - 1]\n",
"         \n",
"    print(\"Principal Diagonal:\", principal)\n",
"    print(\"Secondary Diagonal:\", secondary)\n",
" \n",
"\n",
"a = [[ 1, 2, 3, 4 ],\n",
"     [ 5, 6, 7, 8 ],\n",
"     [ 1, 2, 3, 4 ],\n",
"     [ 5, 6, 7, 8 ]]\n",
"\n",
"DiagonalSums_emp2(a, 4)\n",
" \n",
"# This code is contributed\n",
"# by ihritik"
]
},
{
"cell_type": "markdown",
"id": "afbd2b33",
"metadata": {},
"source": [
"\n",
"The manager has to decide which algorithm to use. To do so, he has to find the complexity of the algorithm. A good algorithm doesn't only find an answer, it finds it quickly and efficiently. But how do we evaluate how fast an algorithm is? One way to do so is by finding the time required to execute the algorithms. We can measure\n",
"\n",
"The %time command times a single run of a function. Here is an example on how it is used:\n",
"\n",
"```py\n",
"In [3]: %time sum(range(100000))\n",
"CPU times: user 2.68 ms, sys: 3 µs, total: 2.68 ms\n",
"Wall time: 2.69 ms\n",
"Out[3]: 4999950000\n",
"```\n",
"\n",
"We can also use the time library:\n",
"\n",
"```py\n",
"import time\n",
"\n",
"start = time.time()\n",
"# your code\n",
"# end\n",
"print(f'Time: {time.time() - start}')\n",
"```\n",
"\n",
"**Find the time required to execute each of the algorithms**"
]
},
{
"cell_type": "code",
"execution_count": 11,
"id": "929cef16",
"metadata": {},
"outputs": [
{
"name": "stdout",
"output_type": "stream",
"text": [
"Principal Diagonal: 18\n",
"Secondary Diagonal: 18\n",
"CPU times: total: 0 ns\n",
"Wall time: 0 ns\n"
]
}
],
"source": [
"#TIME REQUIRED TO EXECUTE ALGORITHM BUILT BY THE FIRST EMPLOYEE\n",
"#USING %time\n",
"\n",
"a = [[ 1, 2, 3, 4 ],\n",
"     [ 5, 6, 7, 8 ],\n",
"     [ 1, 2, 3, 4 ],\n",
"     [ 5, 6, 7, 8 ]]\n",
"\n",
"%time DiagonalSums_emp1(a, 4)"
]
},
{
"cell_type": "code",
"execution_count": 16,
"id": "82a7f066",
"metadata": {},
"outputs": [
{
"name": "stdout",
"output_type": "stream",
"text": [
"Principal Diagonal: 18\n",
"Secondary Diagonal: 18\n",
"Time: 0.0\n"
]
}
],
"source": [
"#USING TIME LIBRARY\n",
"\n",
"import time\n",
"\n",
"start = time.time()\n",
"\n",
"DiagonalSums_emp1(a, 4)\n",
"\n",
"print(f'Time: {time.time() - start}')"
]
},
{
"cell_type": "code",
"execution_count": 17,
"id": "8c8185a8",
"metadata": {},
"outputs": [
{
"name": "stdout",
"output_type": "stream",
"text": [
"Principal Diagonal: 18\n",
"Secondary Diagonal: 18\n",
"CPU times: total: 0 ns\n",
"Wall time: 0 ns\n"
]
}
],
"source": [
"#TIME REQUIRED TO EXECUTE ALGORITHM BUILT BY THE SECOND EMPLOYEE\n",
"#Using %time\n",
"\n",
"a = [[ 1, 2, 3, 4 ],\n",
"     [ 5, 6, 7, 8 ],\n",
"     [ 1, 2, 3, 4 ],\n",
"     [ 5, 6, 7, 8 ]]\n",
"\n",
"%time DiagonalSums_emp2(a, 4)"
]
},
{
"cell_type": "code",
"execution_count": 18,
"id": "c9141778",
"metadata": {},
"outputs": [
{
"name": "stdout",
"output_type": "stream",
"text": [
"Principal Diagonal: 18\n",
"Secondary Diagonal: 18\n",
"Time: 0.0\n"
]
}
],
"source": [
"#USING TIME LIBRARY\n",
"\n",
"import time\n",
"\n",
"start = time.time()\n",
"\n",
"DiagonalSums_emp2(a, 4)\n",
"\n",
"print(f'Time: {time.time() - start}')"
]
},
{
"cell_type": "markdown",
"id": "d66bad41",
"metadata": {},
"source": [
"However, execution time is not a good metric to measure the complexity of an algorithm since it depends upon the hardware. A more objective complexity analysis metrics for the algorithms is needed. This is where Big O notation comes to play.\n",
"\n",
"As we already know, the complexity of an algorithm is said to :\n",
"\n",
"Constant if:\n",
"\n",
"The steps required to complete the execution of an algorithm remain constant, irrespective of the number of inputs. The constant complexity is denoted by O(c) where c can be any constant number.\n",
"\n",
"Linear if:\n",
"\n",
"The steps required to complete the execution of an algorithm increase or decrease linearly with the number of inputs. Linear complexity is denoted by O(n). For instance, if there are 4 inputs in the inputs list, the for-loop will be executed 4 times, and so on.\n",
"\n",
"Quadratic if:\n",
"\n",
"The steps required to execute an algorithm are a quadratic function of the number of items in the input. Quadratic complexity is denoted as O(n^2). The total number of steps performed is n * n, where n is the number of items in the input array.\n",
"\n",
"Find out the complexity of each algorithm in Big O Notation and draw a line plot with the varying size of the items input on the x-axis and the number of steps on the y-axis."
]
},
{
"cell_type": "markdown",
"id": "415eab09",
"metadata": {},
"source": [
"**Answer:**\n",
"\n",
"The first employee implemented an algorithm with a time complexity of O(n^2) \n",
"\n",
"The second employee implemented an algorithm with a time complexity of O(n)"
]
},
{
"cell_type": "markdown",
"id": "b281af6e",
"metadata": {},
"source": [
"Source:\n",
"\n",
"https://www.geeksforgeeks.org/\n",
"\n",
"https://stackabuse.com/big-o-notation-and-algorithm-analysis-with-python-examples/\n",
"\n",
"https://stackabuse.com/quicksort-in-python/\n",
"\n",
"https://stackabuse.com/k-nearest-neighbors-algorithm-in-python-and-scikit-learn/"
]
}
],
"metadata": {
"interpreter": {
"hash": "9248718ffe6ce6938b217e69dbcc175ea21f4c6b28a317e96c05334edae734bb"
},
"kernelspec": {
"display_name": "Python 3.9.12 ('ML-BOOTCAMP')",
"language": "python",
"name": "python3"
},
"language_info": {
"codemirror_mode": {
"name": "ipython",
"version": 3
},
"file_extension": ".py",
"mimetype": "text/x-python",
"name": "python",
"nbconvert_exporter": "python",
"pygments_lexer": "ipython3",
"version": "3.9.12"
},
"vscode": {
"interpreter": {
"hash": "31f2aee4e71d21fbe5cf8b01ff0e069b9275f58929596ceb00d14d90e3e16cd6"
}
}
},
"nbformat": 4,
"nbformat_minor": 5
}
